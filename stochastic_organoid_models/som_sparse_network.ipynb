{
 "cells": [
  {
   "cell_type": "markdown",
   "metadata": {},
   "source": [
    "## Organoid simulation (credit: Mason Hargrave, modif: Lucas Seninge)\n",
    "\n",
    "This notebook is based on Mason's method to simulate organoids. It uses a stochastic model to determine which neurons will fire at t+1 based on neurons firing at t. See Mason's model description."
   ]
  },
  {
   "cell_type": "code",
   "execution_count": 1,
   "metadata": {},
   "outputs": [],
   "source": [
    "# Import modules\n",
    "import numpy as np\n",
    "np.random.seed(42)"
   ]
  },
  {
   "cell_type": "markdown",
   "metadata": {},
   "source": [
    "Added inhibitory neurons to the total population: User can pick a proportion of inhibitory neurons which will be randomly picked in the neuron vector.\n",
    "\n",
    "In the case of inhibitory neurons, neuron  $j$ firing at time  $t$ will cause neuron  $i$ to NOT fire at time  $t+1$. So we take the inverse of this probability so that in the product of $(1-p_{i,j})$ , inhibitory neurons firing will decrease the probability of neuron $i$ firing.\n",
    "\n",
    "This simple model may need refinement as the biology of neuron inhibition is slightly different.\n",
    "\n",
    "Also, we added a refractory period: if a neuron was firing at $t$, it won't be able to fire at $t+1$, no matter what the probability would have been."
   ]
  },
  {
   "cell_type": "markdown",
   "metadata": {},
   "source": [
    "## Model Initialization"
   ]
  },
  {
   "cell_type": "code",
   "execution_count": 2,
   "metadata": {},
   "outputs": [],
   "source": [
    "# Simulation parameters\n",
    "# Number of neurons\n",
    "neurons = 1000\n",
    "\n",
    "# Average of 86 000 000 000 neurons in a brain and 1.5 x 10^14 total synapses\n",
    "# Interesting reading (https://www.quora.com/What-percentage-of-neurons-in-the-brain-are-connected)\n",
    "\n",
    "\n",
    "# Proportion of inhibitory neurons in the neuron population\n",
    "prop_inhib = 0.2\n",
    "# Generates a boolean array determining which neurons are inhibitory.\n",
    "inhib_idx = np.random.choice(neurons, int(prop_inhib*neurons))\n",
    "inhib = np.zeros(neurons, dtype=np.bool)\n",
    "inhib[inhib_idx] = True\n",
    "\n",
    "# Probability matrix - initialize randomly\n",
    "probability_matrix = np.random.rand(neurons*neurons)\n",
    "# Randomly put 0 values for non-connected neurons to reflect biology of the brain\n",
    "# Proportion of 0 : 10%\n",
    "indices = np.random.choice(np.arange(probability_matrix.size), replace=False,\n",
    "                           size=int(probability_matrix.size * 0.1))\n",
    "\n",
    "probability_matrix[indices] = 0\n",
    "# Reshape probability matrix from 1darray to ndarray\n",
    "probability_matrix = np.reshape(probability_matrix, newshape=(neurons, neurons))\n",
    "\n",
    "# Neurons state - initialize randomly\n",
    "initial_state = np.random.randint(2, size=neurons, dtype=np.bool)\n",
    "# Number of iterations - discret time steps (change to actual time?)\n",
    "time = 1000"
   ]
  },
  {
   "cell_type": "code",
   "execution_count": 3,
   "metadata": {},
   "outputs": [
    {
     "name": "stdout",
     "output_type": "stream",
     "text": [
      "[[0.         0.         0.15110434 ... 0.06997532 0.         0.51826037]\n",
      " [0.59727407 0.         0.         ... 0.05605987 0.         0.11190074]\n",
      " [0.13945505 0.16603431 0.         ... 0.03560228 0.00526883 0.0896877 ]\n",
      " ...\n",
      " [0.07675609 0.03555113 0.03793577 ... 0.         0.80748436 0.22270563]\n",
      " [0.22485625 0.08872883 0.         ... 0.20451861 0.         0.57739499]\n",
      " [0.         0.1909329  0.03805991 ... 0.21176121 0.34004073 0.        ]]\n"
     ]
    }
   ],
   "source": [
    "# Preprocessing\n",
    "# Scale-down probabilities by using index distance as a proxy for real distance\n",
    "for (i,j) in np.ndindex(np.shape(probability_matrix)):\n",
    "    distance = min(abs(i-j),neurons-abs(i-j)) #calculate toroidal distance (implementing periodic boundary conditions)\n",
    "    # Added probability of self-firing : low probability\n",
    "    if distance == 0:\n",
    "        probability_matrix[i,j] = 0.05\n",
    "    else:\n",
    "        probability_matrix[i,j] = (1/distance**2) * probability_matrix[i,j]\n",
    "        \n",
    "print(probability_matrix)"
   ]
  },
  {
   "cell_type": "markdown",
   "metadata": {},
   "source": [
    "## Optimized version of next_state"
   ]
  },
  {
   "cell_type": "code",
   "execution_count": 4,
   "metadata": {},
   "outputs": [],
   "source": [
    "def next_state(neurons, probability_matrix, previous_state):\n",
    "    \"\"\"\n",
    "    Get new state t+1 of active/inactive neurons by using probabilities of firing.\n",
    "    \n",
    "    Args:\n",
    "        neurons (int): number of neurons to be simulated.\n",
    "        probability_matrix (np.array): probability of neuron j firing at t causing neuron i to fire at t+1.\n",
    "        previous_state (np.array): vector of neuron states at t .\n",
    "        \n",
    "    Returns:\n",
    "        next_state (np.array): vector of neuron states at t+1.\n",
    "    \"\"\"\n",
    "    # Probability that cell j will NOT affect cell i.\n",
    "    # Restrict attention to cells that are firing.\n",
    "    anti_probability_matrix = 1 - probability_matrix[:,previous_state]\n",
    "    # Take product over the two cell types separately.\n",
    "    # Use indexing instead of masked arrays because faster.\n",
    "    inh_prod = np.prod(anti_probability_matrix[:,inhib[previous_state]], axis=1)\n",
    "    exc_prod = np.prod(anti_probability_matrix[:,~inhib[previous_state]], axis=1)\n",
    "    expectation_values = (1 - exc_prod) * inh_prod\n",
    "    \n",
    "    return (np.random.random(neurons) < expectation_values) & (previous_state==0)"
   ]
  },
  {
   "cell_type": "code",
   "execution_count": 5,
   "metadata": {},
   "outputs": [
    {
     "name": "stdout",
     "output_type": "stream",
     "text": [
      "CPU times: user 1.25 s, sys: 192 ms, total: 1.45 s\n",
      "Wall time: 1.45 s\n"
     ]
    }
   ],
   "source": [
    "%%time\n",
    "states= np.zeros((time+1, neurons), dtype=np.bool)\n",
    "states[0,:] = initial_state\n",
    "for t in range(time):\n",
    "    states[t+1,:] = next_state(neurons, probability_matrix, states[t,:])"
   ]
  },
  {
   "cell_type": "code",
   "execution_count": 6,
   "metadata": {},
   "outputs": [
    {
     "data": {
      "image/png": "[encoded data removed]",
      "text/plain": [
       "<Figure size 720x1440 with 1 Axes>"
      ]
     },
     "metadata": {},
     "output_type": "display_data"
    }
   ],
   "source": [
    "%matplotlib inline\n",
    "import matplotlib.pyplot as plt\n",
    "plt.figure(figsize=(10,20))\n",
    "plt.imshow(states.T[:200,:200])\n",
    "plt.xlabel(\"Time\")\n",
    "plt.ylabel(\"Neuron\")\n",
    "plt.title(\"Neuron Firings Over Time\")\n",
    "plt.savefig('my-version.png')"
   ]
  },
  {
   "cell_type": "code",
   "execution_count": 44,
   "metadata": {},
   "outputs": [],
   "source": [
    "np.save('stochastic_out.npy', states.astype(int))"
   ]
  },
  {
   "cell_type": "code",
   "execution_count": null,
   "metadata": {},
   "outputs": [],
   "source": []
  }
 ],
 "metadata": {
  "kernelspec": {
   "display_name": "Python 3",
   "language": "python",
   "name": "python3"
  },
  "language_info": {
   "codemirror_mode": {
    "name": "ipython",
    "version": 3
   },
   "file_extension": ".py",
   "mimetype": "text/x-python",
   "name": "python",
   "nbconvert_exporter": "python",
   "pygments_lexer": "ipython3",
   "version": "3.6.3"
  }
 },
 "nbformat": 4,
 "nbformat_minor": 2
}
