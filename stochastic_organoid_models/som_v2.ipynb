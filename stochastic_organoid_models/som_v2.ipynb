{
 "cells": [
  {
   "cell_type": "markdown",
   "metadata": {},
   "source": [
    "### Stochastic Organoid Model ###\n",
    "\n",
    "Imagine an organoid with $n$ neurons which experiences time discretely. The state of such an organoid can be modeled as an $n$ dimensional array. If the $i^{\\mathrm{th}}$ element of this array is 1, then neuron $i$ is firing; ff the $i^{\\mathrm{th}}$ element of this array is 0, then the neuron $i$ is not firing. There is an array describing the state of the orgnoid at any given time $t$, and the state of the organoid at time $t$ should help determine the state of the organoid at time $t+1$.\n",
    "\n",
    "The generation of the state at time $t+1$ from the state at time $t$ is based probablity. In particular, consider the value $p_{i,j}$, the probability that neuron $j$ firing at time $t$ will cause neuron $i$ to fire at time $t+1$. By collecting alll these various probabilities, we can form a matrix which contains all the probabilities needed to stochastically generate the sate at time $t+1$.\n",
    "\n",
    "The essential observation here is that the probability that neuron $i$ will fire at time $t+1$ is equal to $1$ minus the probability that none of the neurons firing at time $t$ will cause neuron $i$ to fire. In mathematical terms:\n",
    "\n",
    "$$ p_{\\mathrm{i \\; fire}} = 1 - \\prod_{j \\in F_t} (1-p_{i,j})$$\n",
    "\n",
    "where $F_t$ is the set of neurons which are firing at time $t$."
   ]
  },
  {
   "cell_type": "markdown",
   "metadata": {},
   "source": [
    "## Version 2 Features ##\n",
    "\n",
    "In the first version, the higher the number of neurons $n$, the more likely it was for any given neuron to be firing. To mitigate this problem all probabilities $P_{i,j}$ have been scaled down by a factor of $\\frac{1}{n^{|i-j|}}$. This has the affect of not only preventuing probabilities of firing from sky rocketing as $n$ increases, but also makes it so that neurons are more likely to trigger the firing of near-by neurons and are less likely to trigger distal neurons (taking index to be a proxy for  distance). We also, for the time being, remove the possibility of a neuron stimulating itself by making all the diagonal terms zero."
   ]
  },
  {
   "cell_type": "code",
   "execution_count": 27,
   "metadata": {},
   "outputs": [],
   "source": [
    "import numpy as np\n",
    "import random"
   ]
  },
  {
   "cell_type": "code",
   "execution_count": 28,
   "metadata": {},
   "outputs": [
    {
     "name": "stdout",
     "output_type": "stream",
     "text": [
      "[[0.90489815 0.64936467 0.68821528 0.16973267 0.42337277 0.71655502\n",
      "  0.05065571 0.4687091  0.54474356 0.89985187]\n",
      " [0.45926882 0.00338733 0.99169971 0.55276154 0.78654982 0.64265716\n",
      "  0.59536286 0.56004984 0.27714762 0.15550196]\n",
      " [0.29475464 0.50661065 0.07125772 0.56779965 0.73605726 0.22772316\n",
      "  0.78238662 0.97041083 0.725448   0.95203639]\n",
      " [0.19507546 0.18733637 0.55829861 0.80756272 0.96639858 0.28489077\n",
      "  0.87086467 0.98771548 0.52971075 0.19158478]\n",
      " [0.23961672 0.69912994 0.28486211 0.70486671 0.954709   0.13723669\n",
      "  0.54033409 0.36173134 0.15795516 0.98675354]\n",
      " [0.41586463 0.78571251 0.1618174  0.74338542 0.46712356 0.40544471\n",
      "  0.54030242 0.90934691 0.69722575 0.3934079 ]\n",
      " [0.23054335 0.17281481 0.8969251  0.55759952 0.13529669 0.76309764\n",
      "  0.32871404 0.81998376 0.30378741 0.80940303]\n",
      " [0.50798156 0.58535705 0.80486661 0.96803159 0.41293506 0.36036586\n",
      "  0.08607678 0.20266498 0.73002653 0.89686643]\n",
      " [0.36046231 0.90341448 0.46372878 0.79788094 0.79156771 0.9659859\n",
      "  0.54570436 0.77648706 0.94782723 0.49580366]\n",
      " [0.05450591 0.36959911 0.93656607 0.17065444 0.52602148 0.95333619\n",
      "  0.48515816 0.36055943 0.51439925 0.89927417]]\n",
      "[0 1 0 0 0 1 1 1 1 0]\n"
     ]
    }
   ],
   "source": [
    "neurons = 10\n",
    "probability_matrix = np.random.rand(neurons,neurons)\n",
    "initial_state = np.random.randint(2, size=neurons)\n",
    "product = 1\n",
    "expectation_values = np.zeros(neurons)\n",
    "final_state = np.zeros(neurons)\n",
    "time = 100\n",
    "\n",
    "print(probability_matrix)\n",
    "print(initial_state)"
   ]
  },
  {
   "cell_type": "code",
   "execution_count": 29,
   "metadata": {},
   "outputs": [
    {
     "name": "stdout",
     "output_type": "stream",
     "text": [
      "[[0.00000000e+00 6.49364671e-02 6.88215284e-03 1.69732671e-04\n",
      "  4.23372765e-05 7.16555025e-06 5.06557074e-08 4.68709103e-08\n",
      "  5.44743558e-09 8.99851867e-10]\n",
      " [4.59268817e-02 0.00000000e+00 9.91699708e-02 5.52761536e-03\n",
      "  7.86549825e-04 6.42657164e-05 5.95362857e-06 5.60049839e-07\n",
      "  2.77147618e-08 1.55501963e-09]\n",
      " [2.94754642e-03 5.06610649e-02 0.00000000e+00 5.67799646e-02\n",
      "  7.36057255e-03 2.27723162e-04 7.82386624e-05 9.70410835e-06\n",
      "  7.25448001e-07 9.52036390e-08]\n",
      " [1.95075455e-04 1.87336371e-03 5.58298613e-02 0.00000000e+00\n",
      "  9.66398575e-02 2.84890772e-03 8.70864670e-04 9.87715483e-05\n",
      "  5.29710747e-06 1.91584778e-07]\n",
      " [2.39616724e-05 6.99129941e-04 2.84862107e-03 7.04866708e-02\n",
      "  0.00000000e+00 1.37236690e-02 5.40334093e-03 3.61731339e-04\n",
      "  1.57955161e-05 9.86753541e-06]\n",
      " [4.15864628e-06 7.85712505e-05 1.61817402e-04 7.43385418e-03\n",
      "  4.67123557e-02 0.00000000e+00 5.40302415e-02 9.09346909e-03\n",
      "  6.97225750e-04 3.93407901e-05]\n",
      " [2.30543353e-07 1.72814809e-06 8.96925098e-05 5.57599515e-04\n",
      "  1.35296690e-03 7.63097641e-02 0.00000000e+00 8.19983758e-02\n",
      "  3.03787409e-03 8.09403027e-04]\n",
      " [5.07981560e-08 5.85357049e-07 8.04866611e-06 9.68031586e-05\n",
      "  4.12935056e-04 3.60365863e-03 8.60767761e-03 0.00000000e+00\n",
      "  7.30026533e-02 8.96866426e-03]\n",
      " [3.60462311e-09 9.03414482e-08 4.63728781e-07 7.97880944e-06\n",
      "  7.91567708e-05 9.65985901e-04 5.45704363e-03 7.76487058e-02\n",
      "  0.00000000e+00 4.95803665e-02]\n",
      " [5.45059108e-11 3.69599107e-09 9.36566071e-08 1.70654442e-07\n",
      "  5.26021478e-06 9.53336190e-05 4.85158157e-04 3.60559426e-03\n",
      "  5.14399250e-02 0.00000000e+00]]\n"
     ]
    }
   ],
   "source": [
    "for i in range(neurons):\n",
    "    for j in range(neurons):\n",
    "        power = abs(i-j)\n",
    "        if power == 0:\n",
    "            probability_matrix[i,j] = 0\n",
    "        else:\n",
    "            probability_matrix[i,j] = ((1/neurons)**power) * probability_matrix[i,j]\n",
    "\n",
    "print(probability_matrix)"
   ]
  },
  {
   "cell_type": "markdown",
   "metadata": {},
   "source": [
    "The following cell generates a state for every time $t+1$ based on the state at time $t$."
   ]
  },
  {
   "cell_type": "code",
   "execution_count": 30,
   "metadata": {},
   "outputs": [
    {
     "name": "stdout",
     "output_type": "stream",
     "text": [
      "[0. 0. 0. 0. 0. 0. 0. 1. 1. 1.]\n",
      "[0. 0. 0. 0. 0. 1. 0. 0. 0. 0.]\n",
      "[0. 0. 0. 0. 0. 0. 0. 0. 0. 0.]\n",
      "[0. 0. 0. 0. 0. 0. 0. 0. 0. 0.]\n",
      "[0. 0. 0. 0. 0. 0. 0. 0. 0. 0.]\n",
      "[0. 0. 0. 0. 0. 0. 0. 0. 0. 0.]\n",
      "[0. 0. 0. 0. 0. 0. 0. 0. 0. 0.]\n",
      "[0. 0. 0. 0. 0. 0. 0. 0. 0. 0.]\n",
      "[0. 0. 0. 0. 0. 0. 0. 0. 0. 0.]\n",
      "[0. 0. 0. 0. 0. 0. 0. 0. 0. 0.]\n",
      "[0. 0. 0. 0. 0. 0. 0. 0. 0. 0.]\n",
      "[0. 0. 0. 0. 0. 0. 0. 0. 0. 0.]\n",
      "[0. 0. 0. 0. 0. 0. 0. 0. 0. 0.]\n",
      "[0. 0. 0. 0. 0. 0. 0. 0. 0. 0.]\n",
      "[0. 0. 0. 0. 0. 0. 0. 0. 0. 0.]\n",
      "[0. 0. 0. 0. 0. 0. 0. 0. 0. 0.]\n",
      "[0. 0. 0. 0. 0. 0. 0. 0. 0. 0.]\n",
      "[0. 0. 0. 0. 0. 0. 0. 0. 0. 0.]\n",
      "[0. 0. 0. 0. 0. 0. 0. 0. 0. 0.]\n",
      "[0. 0. 0. 0. 0. 0. 0. 0. 0. 0.]\n",
      "[0. 0. 0. 0. 0. 0. 0. 0. 0. 0.]\n",
      "[0. 0. 0. 0. 0. 0. 0. 0. 0. 0.]\n",
      "[0. 0. 0. 0. 0. 0. 0. 0. 0. 0.]\n",
      "[0. 0. 0. 0. 0. 0. 0. 0. 0. 0.]\n",
      "[0. 0. 0. 0. 0. 0. 0. 0. 0. 0.]\n",
      "[0. 0. 0. 0. 0. 0. 0. 0. 0. 0.]\n",
      "[0. 0. 0. 0. 0. 0. 0. 0. 0. 0.]\n",
      "[0. 0. 0. 0. 0. 0. 0. 0. 0. 0.]\n",
      "[0. 0. 0. 0. 0. 0. 0. 0. 0. 0.]\n",
      "[0. 0. 0. 0. 0. 0. 0. 0. 0. 0.]\n",
      "[0. 0. 0. 0. 0. 0. 0. 0. 0. 0.]\n",
      "[0. 0. 0. 0. 0. 0. 0. 0. 0. 0.]\n",
      "[0. 0. 0. 0. 0. 0. 0. 0. 0. 0.]\n",
      "[0. 0. 0. 0. 0. 0. 0. 0. 0. 0.]\n",
      "[0. 0. 0. 0. 0. 0. 0. 0. 0. 0.]\n",
      "[0. 0. 0. 0. 0. 0. 0. 0. 0. 0.]\n",
      "[0. 0. 0. 0. 0. 0. 0. 0. 0. 0.]\n",
      "[0. 0. 0. 0. 0. 0. 0. 0. 0. 0.]\n",
      "[0. 0. 0. 0. 0. 0. 0. 0. 0. 0.]\n",
      "[0. 0. 0. 0. 0. 0. 0. 0. 0. 0.]\n",
      "[0. 0. 0. 0. 0. 0. 0. 0. 0. 0.]\n",
      "[0. 0. 0. 0. 0. 0. 0. 0. 0. 0.]\n",
      "[0. 0. 0. 0. 0. 0. 0. 0. 0. 0.]\n",
      "[0. 0. 0. 0. 0. 0. 0. 0. 0. 0.]\n",
      "[0. 0. 0. 0. 0. 0. 0. 0. 0. 0.]\n",
      "[0. 0. 0. 0. 0. 0. 0. 0. 0. 0.]\n",
      "[0. 0. 0. 0. 0. 0. 0. 0. 0. 0.]\n",
      "[0. 0. 0. 0. 0. 0. 0. 0. 0. 0.]\n",
      "[0. 0. 0. 0. 0. 0. 0. 0. 0. 0.]\n",
      "[0. 0. 0. 0. 0. 0. 0. 0. 0. 0.]\n",
      "[0. 0. 0. 0. 0. 0. 0. 0. 0. 0.]\n",
      "[0. 0. 0. 0. 0. 0. 0. 0. 0. 0.]\n",
      "[0. 0. 0. 0. 0. 0. 0. 0. 0. 0.]\n",
      "[0. 0. 0. 0. 0. 0. 0. 0. 0. 0.]\n",
      "[0. 0. 0. 0. 0. 0. 0. 0. 0. 0.]\n",
      "[0. 0. 0. 0. 0. 0. 0. 0. 0. 0.]\n",
      "[0. 0. 0. 0. 0. 0. 0. 0. 0. 0.]\n",
      "[0. 0. 0. 0. 0. 0. 0. 0. 0. 0.]\n",
      "[0. 0. 0. 0. 0. 0. 0. 0. 0. 0.]\n",
      "[0. 0. 0. 0. 0. 0. 0. 0. 0. 0.]\n",
      "[0. 0. 0. 0. 0. 0. 0. 0. 0. 0.]\n",
      "[0. 0. 0. 0. 0. 0. 0. 0. 0. 0.]\n",
      "[0. 0. 0. 0. 0. 0. 0. 0. 0. 0.]\n",
      "[0. 0. 0. 0. 0. 0. 0. 0. 0. 0.]\n",
      "[0. 0. 0. 0. 0. 0. 0. 0. 0. 0.]\n",
      "[0. 0. 0. 0. 0. 0. 0. 0. 0. 0.]\n",
      "[0. 0. 0. 0. 0. 0. 0. 0. 0. 0.]\n",
      "[0. 0. 0. 0. 0. 0. 0. 0. 0. 0.]\n",
      "[0. 0. 0. 0. 0. 0. 0. 0. 0. 0.]\n",
      "[0. 0. 0. 0. 0. 0. 0. 0. 0. 0.]\n",
      "[0. 0. 0. 0. 0. 0. 0. 0. 0. 0.]\n",
      "[0. 0. 0. 0. 0. 0. 0. 0. 0. 0.]\n",
      "[0. 0. 0. 0. 0. 0. 0. 0. 0. 0.]\n",
      "[0. 0. 0. 0. 0. 0. 0. 0. 0. 0.]\n",
      "[0. 0. 0. 0. 0. 0. 0. 0. 0. 0.]\n",
      "[0. 0. 0. 0. 0. 0. 0. 0. 0. 0.]\n",
      "[0. 0. 0. 0. 0. 0. 0. 0. 0. 0.]\n",
      "[0. 0. 0. 0. 0. 0. 0. 0. 0. 0.]\n",
      "[0. 0. 0. 0. 0. 0. 0. 0. 0. 0.]\n",
      "[0. 0. 0. 0. 0. 0. 0. 0. 0. 0.]\n",
      "[0. 0. 0. 0. 0. 0. 0. 0. 0. 0.]\n",
      "[0. 0. 0. 0. 0. 0. 0. 0. 0. 0.]\n",
      "[0. 0. 0. 0. 0. 0. 0. 0. 0. 0.]\n",
      "[0. 0. 0. 0. 0. 0. 0. 0. 0. 0.]\n",
      "[0. 0. 0. 0. 0. 0. 0. 0. 0. 0.]\n",
      "[0. 0. 0. 0. 0. 0. 0. 0. 0. 0.]\n",
      "[0. 0. 0. 0. 0. 0. 0. 0. 0. 0.]\n",
      "[0. 0. 0. 0. 0. 0. 0. 0. 0. 0.]\n",
      "[0. 0. 0. 0. 0. 0. 0. 0. 0. 0.]\n",
      "[0. 0. 0. 0. 0. 0. 0. 0. 0. 0.]\n",
      "[0. 0. 0. 0. 0. 0. 0. 0. 0. 0.]\n",
      "[0. 0. 0. 0. 0. 0. 0. 0. 0. 0.]\n",
      "[0. 0. 0. 0. 0. 0. 0. 0. 0. 0.]\n",
      "[0. 0. 0. 0. 0. 0. 0. 0. 0. 0.]\n",
      "[0. 0. 0. 0. 0. 0. 0. 0. 0. 0.]\n",
      "[0. 0. 0. 0. 0. 0. 0. 0. 0. 0.]\n",
      "[0. 0. 0. 0. 0. 0. 0. 0. 0. 0.]\n",
      "[0. 0. 0. 0. 0. 0. 0. 0. 0. 0.]\n",
      "[0. 0. 0. 0. 0. 0. 0. 0. 0. 0.]\n",
      "[0. 0. 0. 0. 0. 0. 0. 0. 0. 0.]\n"
     ]
    }
   ],
   "source": [
    "for t in range(time):\n",
    "    initial_state = next_state(neurons, probability_matrix, initial_state)"
   ]
  },
  {
   "cell_type": "code",
   "execution_count": null,
   "metadata": {},
   "outputs": [],
   "source": []
  }
 ],
 "metadata": {
  "kernelspec": {
   "display_name": "Python 3",
   "language": "python",
   "name": "python3"
  },
  "language_info": {
   "codemirror_mode": {
    "name": "ipython",
    "version": 3
   },
   "file_extension": ".py",
   "mimetype": "text/x-python",
   "name": "python",
   "nbconvert_exporter": "python",
   "pygments_lexer": "ipython3",
   "version": "3.6.5"
  }
 },
 "nbformat": 4,
 "nbformat_minor": 2
}
